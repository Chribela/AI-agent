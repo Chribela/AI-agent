{
 "cells": [
  {
   "cell_type": "code",
   "execution_count": null,
   "id": "0f3576fe-23f8-4a71-a496-227528082e2d",
   "metadata": {},
   "outputs": [],
   "source": [
    "import random \n",
    "class Env(): \n",
    "    def __init__(self):\n",
    "        self.candyboxes = { 'a': 0, 'b': 0, ...}\n",
    "        for box in self.candy..: \n",
    "            self.candy..[box]= random.randint(0, 100) \n",
    "        print('initial fill levels:', self.candy...)\n",
    "\n",
    "class agent(env):\n",
    "    agent_loc= random.choice(list(env.selfcandyboxe.keys()))\n",
    "    print('agent loc' agent_loc)\n",
    "    def refiill(self): \n",
    "        for box , fill_level in self.candy....items():\n",
    "                if fill_level < 50: \n",
    "                    self.cand[box]= 100 \n",
    "                    print('refilled box' bo ...)\n",
    "        print(final candy box .selfconaid .boxes"
   ]
  },
  {
   "cell_type": "code",
   "execution_count": null,
   "id": "0595cc3f-fb3f-4a0b-9346-cd18b738c295",
   "metadata": {},
   "outputs": [],
   "source": [
    "class env(): \n",
    "    def __initi__(self): \n",
    "        self. move  , self.path, self.loc\n",
    "       self. journey []\n",
    "\n",
    "class agent(env): \n",
    "    def make_agent(self, loc):\n",
    "        return [loc]\n",
    "\n",
    "    import random \n",
    "    def choose_path(self, agent_one, env): \n",
    "        i= random. choice(self.move), j= str(agent_one[0])  + i \n",
    "        print()\n",
    "        while env.path= 'w': \n",
    "        repeat\n",
    "        print('cantmove')\n",
    "    print(env.path[j])\n",
    "    return j\n",
    "    journey= []\n",
    "    def take_journey (self, env): \n",
    "        agent_one= self. make_agent(random.choice(env. loc))\n",
    "        print('agent loc')\n",
    "        self.journey.append.(agent_one[0])\n",
    "        while agent_one[0] != '4': \n",
    "            to_move= self//recusive function\n",
    "            agent_one[0]= env.path[to_move]\n",
    "            self.journey.apppen(agent_one)\n",
    "       self.journey.append('4')\n",
    "    print('journey', self.journey)\n",
    "    return. self.journey \n",
    "\n",
    "        "
   ]
  }
 ],
 "metadata": {
  "kernelspec": {
   "display_name": "Python 3 (ipykernel)",
   "language": "python",
   "name": "python3"
  },
  "language_info": {
   "codemirror_mode": {
    "name": "ipython",
    "version": 3
   },
   "file_extension": ".py",
   "mimetype": "text/x-python",
   "name": "python",
   "nbconvert_exporter": "python",
   "pygments_lexer": "ipython3",
   "version": "3.11.7"
  }
 },
 "nbformat": 4,
 "nbformat_minor": 5
}
